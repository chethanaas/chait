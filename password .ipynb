{
 "cells": [
  {
   "cell_type": "code",
   "execution_count": 9,
   "id": "001cdef3-d463-4ba9-a4b7-d9f763d37522",
   "metadata": {},
   "outputs": [],
   "source": [
    "def CheckPassword(s, n):\n",
    "    \n",
    "    if n < 4:\n",
    "        return 0\n",
    "    \n",
    "   \n",
    "    if s[0].isdigit():\n",
    "        return 0\n",
    "    \n",
    "    \n",
    "    has_digit = False\n",
    "    has_upper = False\n",
    "    \n",
    "    \n",
    "    for char in s:\n",
    "        if char.isdigit():\n",
    "            has_digit = True\n",
    "        elif char.isupper():\n",
    "            has_upper = True\n",
    "        elif char == ' ' or char == '/':\n",
    "            return 0\n",
    "    \n",
    "   \n",
    "    if has_digit and has_upper:\n",
    "        return 1\n",
    "    else:\n",
    "        return 0\n",
    "\n"
   ]
  },
  {
   "cell_type": "code",
   "execution_count": 16,
   "id": "8d4bf4bd-0299-4ed6-81b6-5fb6cf337c73",
   "metadata": {},
   "outputs": [
    {
     "name": "stdout",
     "output_type": "stream",
     "text": [
      "1\n",
      "0\n",
      "0\n",
      "1\n",
      "0\n",
      "1\n",
      "0\n"
     ]
    }
   ],
   "source": [
    "print(CheckPassword(\"Password1\", len(\"Password1\")))\n",
    "print(CheckPassword(\"passw1\", len(\"passw1\")))       \n",
    "print(CheckPassword(\"PASSWORD\", len(\"PASSWORD\")))    \n",
    "print(CheckPassword(\"P@ssword1\", len(\"P@ssword1\")))  \n",
    "print(CheckPassword(\"1password\", len(\"1password\"))) \n",
    "print(CheckPassword(\"Pass1word\", len(\"Pass 1word\")))  \n",
    "print(CheckPassword(\"P@ss/word1\", len(\"P@ssword1\")))  \n"
   ]
  },
  {
   "cell_type": "markdown",
   "id": "c08ac7dd-0213-4a86-bde1-32dd9eac42af",
   "metadata": {},
   "source": [
    "# "
   ]
  },
  {
   "cell_type": "code",
   "execution_count": null,
   "id": "2b13f9c3-a52d-41b1-b6ac-6b3a5c7721e3",
   "metadata": {},
   "outputs": [],
   "source": []
  }
 ],
 "metadata": {
  "kernelspec": {
   "display_name": "Python 3 (ipykernel)",
   "language": "python",
   "name": "python3"
  },
  "language_info": {
   "codemirror_mode": {
    "name": "ipython",
    "version": 3
   },
   "file_extension": ".py",
   "mimetype": "text/x-python",
   "name": "python",
   "nbconvert_exporter": "python",
   "pygments_lexer": "ipython3",
   "version": "3.12.5"
  }
 },
 "nbformat": 4,
 "nbformat_minor": 5
}
