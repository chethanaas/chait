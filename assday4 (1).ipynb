{
 "cells": [
  {
   "cell_type": "code",
   "execution_count": null,
   "id": "e8aed4f8-b710-4b07-8276-99f04428a38b",
   "metadata": {},
   "outputs": [],
   "source": [
    "class stringprocess:\n",
    "    def __init__(self,s):\n",
    "        self.s = s\n",
    "    def move_hypens_to_front(self):\n",
    "        if self.s is None:\n",
    "            return None\n",
    "        hypens = self.s.count('_')\n",
    "        result = self.s.replace('-','')\n",
    "        return result"
   ]
  },
  {
   "cell_type": "code",
   "execution_count": null,
   "id": "2fd08f26-ef9a-44ea-b5c7-3e07257b931b",
   "metadata": {},
   "outputs": [],
   "source": [
    "processor = stringprocess(\"hello-hi-sir\")"
   ]
  },
  {
   "cell_type": "code",
   "execution_count": null,
   "id": "4876c000-6dfa-4ec7-bcc6-c2f33e7c2510",
   "metadata": {},
   "outputs": [],
   "source": [
    "print(processor.move_hypens_to_front())"
   ]
  },
  {
   "cell_type": "code",
   "execution_count": null,
   "id": "141ce56f-1c58-49ca-b046-a4c7c4abec70",
   "metadata": {},
   "outputs": [],
   "source": [
    "class Node:\n",
    "    def __init__(self,value):\n",
    "        self.value = value\n",
    "        self.next = None\n",
    "class linkedlist:\n",
    "    def __init__(self):\n",
    "        self.head = None\n",
    "    def append(self,value):\n",
    "        if not self.head:\n",
    "            self.head = Node(value)\n",
    "        else:\n",
    "            current = self.head\n",
    "            while current.next:\n",
    "                current = current.next\n",
    "            current.next = Node(value)\n",
    "    def delete_value(self,value):\n",
    "        current = self.head\n",
    "        prev = None\n",
    "        while current:\n",
    "            if current.value == value:\n",
    "                if prev:\n",
    "                    prev.next = current.next\n",
    "                else:\n",
    "                        self.head = current.next\n",
    "                return\n",
    "                prev = current\n",
    "                current = current.next\n",
    "    def reverser(self):\n",
    "        prev = None\n",
    "        current = self.head\n",
    "        while current:\n",
    "            next_node = current.next\n",
    "            current.next = prev\n",
    "            prev = current\n",
    "            current = next_node\n",
    "        self.head = prev\n",
    "    def print_LL(self):\n",
    "        current = self.head\n",
    "        while current:\n",
    "            print(current.value,end=' ')\n",
    "            current = current.next"
   ]
  },
  {
   "cell_type": "code",
   "execution_count": null,
   "id": "0ba476fe-7df2-47c9-8c81-543738e50a8c",
   "metadata": {},
   "outputs": [],
   "source": [
    "l=linkedlist()"
   ]
  },
  {
   "cell_type": "code",
   "execution_count": null,
   "id": "d513d7b4-f29a-4365-9f85-178fba78cdb5",
   "metadata": {},
   "outputs": [],
   "source": [
    "l.append(10)\n",
    "l.append(20)\n",
    "l.append(30)\n",
    "l.append(40)\n",
    "l.append(50)\n",
    "l.print_LL()\n"
   ]
  },
  {
   "cell_type": "code",
   "execution_count": null,
   "id": "d0d57a1b-18d2-4e77-a138-8c243e178b8f",
   "metadata": {},
   "outputs": [],
   "source": [
    "l.delete_value(20)"
   ]
  },
  {
   "cell_type": "code",
   "execution_count": null,
   "id": "04d13fb0-1642-4bd3-b960-62054338face",
   "metadata": {},
   "outputs": [],
   "source": [
    "l.print_LL()"
   ]
  },
  {
   "cell_type": "code",
   "execution_count": null,
   "id": "42de1c7c-3cb1-405c-9535-8a04ed0224fd",
   "metadata": {},
   "outputs": [],
   "source": [
    "l.reverse()"
   ]
  },
  {
   "cell_type": "code",
   "execution_count": null,
   "id": "02dcc810-162e-470f-bfb9-38723438bd53",
   "metadata": {},
   "outputs": [],
   "source": [
    "l.print_LL()"
   ]
  },
  {
   "cell_type": "code",
   "execution_count": null,
   "id": "30d48855-c44d-4fd4-94b6-4e3ae40967a4",
   "metadata": {},
   "outputs": [],
   "source": [
    "a = (\"ji\")"
   ]
  },
  {
   "cell_type": "code",
   "execution_count": null,
   "id": "82a2508c-34f5-4248-8126-9cec691fec3a",
   "metadata": {},
   "outputs": [],
   "source": []
  },
  {
   "cell_type": "code",
   "execution_count": null,
   "id": "17b2a743-3720-434f-898f-0241c92a951a",
   "metadata": {},
   "outputs": [],
   "source": []
  }
 ],
 "metadata": {
  "kernelspec": {
   "display_name": "Python 3 (ipykernel)",
   "language": "python",
   "name": "python3"
  },
  "language_info": {
   "codemirror_mode": {
    "name": "ipython",
    "version": 3
   },
   "file_extension": ".py",
   "mimetype": "text/x-python",
   "name": "python",
   "nbconvert_exporter": "python",
   "pygments_lexer": "ipython3",
   "version": "3.12.5"
  }
 },
 "nbformat": 4,
 "nbformat_minor": 5
}
