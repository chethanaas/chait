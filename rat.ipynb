{
 "cells": [
  {
   "cell_type": "markdown",
   "id": "9d924c7e-817b-4d02-aa3f-ab3ad33bc03e",
   "metadata": {},
   "source": [
    "rat problem"
   ]
  },
  {
   "cell_type": "code",
   "execution_count": 1,
   "id": "82dcdf48-1e02-4a8e-a0d0-da8095760c3f",
   "metadata": {},
   "outputs": [],
   "source": [
    "def rat(r,units,arr):\n",
    "    if len(arr) == 0:\n",
    "        return -1\n",
    "    foodreq = r*units\n",
    "    foodsofar = 0\n",
    "    for i in range (len(arr)):\n",
    "        foodsofar = foodsofar + arr[i]\n",
    "        if foodsofar >= foodreq:\n",
    "            print (i+1)\n",
    "            break\n",
    "    return 0\n",
    "    \n",
    "            \n",
    "        \n"
   ]
  },
  {
   "cell_type": "code",
   "execution_count": 2,
   "id": "28d148cd-78c2-48ec-8661-edd73da82c7d",
   "metadata": {},
   "outputs": [
    {
     "name": "stdout",
     "output_type": "stream",
     "text": [
      "3\n"
     ]
    },
    {
     "data": {
      "text/plain": [
       "0"
      ]
     },
     "execution_count": 2,
     "metadata": {},
     "output_type": "execute_result"
    }
   ],
   "source": [
    "arr = [12,2,4,5]\n",
    "rat(5,3,arr)\n",
    "\n"
   ]
  },
  {
   "cell_type": "code",
   "execution_count": 3,
   "id": "386dc130-94cc-4e9d-a172-3e91b50556b5",
   "metadata": {},
   "outputs": [],
   "source": [
    "def find_factors(n):\n",
    "    if n <= 0:\n",
    "        raise ValueError(\"The value of n must be a positive integer.\")\n",
    "    \n",
    "    \n",
    "    for i in range(1, n + 1):\n",
    "        if n%i==0:\n",
    "            print(i)\n",
    "        \"\"\"factors = []\n",
    "       \n",
    "        for j in range(1, i + 1):\n",
    "            if i % j == 0:\n",
    "                factors.append(j)\n",
    "       \n",
    "        print(f\"Factors of {i}: {factors}\")\n",
    "\n",
    "\n",
    "n = 5\n",
    "find_factors(n)\"\"\"\n"
   ]
  },
  {
   "cell_type": "code",
   "execution_count": 4,
   "id": "c8360ef0-19a6-4f71-944e-6ee569f117d7",
   "metadata": {},
   "outputs": [
    {
     "name": "stdout",
     "output_type": "stream",
     "text": [
      "1\n",
      "2\n",
      "4\n",
      "5\n",
      "10\n",
      "20\n"
     ]
    }
   ],
   "source": [
    "find_factors(20)"
   ]
  },
  {
   "cell_type": "code",
   "execution_count": 5,
   "id": "73b572c0-1361-4060-a9cc-2df67885832b",
   "metadata": {},
   "outputs": [],
   "source": [
    "def count(arr,num,diff,leng):\n",
    "    count=0\n",
    "    for i in range (leng):\n",
    "        d = abs(num-arr[i])\n",
    "        if d <= diff:\n",
    "            count = count+1\n",
    "    if count ==0:\n",
    "        return -1\n",
    "    else:\n",
    "        return count\n",
    "    \n",
    "    \n",
    "    "
   ]
  },
  {
   "cell_type": "code",
   "execution_count": 6,
   "id": "2261fed0-4e82-421b-bdd3-454f10a0ff77",
   "metadata": {},
   "outputs": [
    {
     "data": {
      "text/plain": [
       "3"
      ]
     },
     "execution_count": 6,
     "metadata": {},
     "output_type": "execute_result"
    }
   ],
   "source": [
    "arr = [4,6,11,3,1]\n",
    "count(arr,5,3,5)"
   ]
  },
  {
   "cell_type": "code",
   "execution_count": null,
   "id": "98c86d07-2dde-4904-9704-e9cd0aaa5166",
   "metadata": {},
   "outputs": [],
   "source": []
  },
  {
   "cell_type": "code",
   "execution_count": null,
   "id": "145acbb7-1a87-4ff6-8e19-224d2dc6171e",
   "metadata": {},
   "outputs": [],
   "source": []
  },
  {
   "cell_type": "code",
   "execution_count": null,
   "id": "eca9e272-d8bc-492a-b25c-d130b59aa3ed",
   "metadata": {},
   "outputs": [],
   "source": []
  }
 ],
 "metadata": {
  "kernelspec": {
   "display_name": "Python 3 (ipykernel)",
   "language": "python",
   "name": "python3"
  },
  "language_info": {
   "codemirror_mode": {
    "name": "ipython",
    "version": 3
   },
   "file_extension": ".py",
   "mimetype": "text/x-python",
   "name": "python",
   "nbconvert_exporter": "python",
   "pygments_lexer": "ipython3",
   "version": "3.12.5"
  }
 },
 "nbformat": 4,
 "nbformat_minor": 5
}
