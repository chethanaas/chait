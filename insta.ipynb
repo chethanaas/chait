{
 "cells": [
  {
   "cell_type": "markdown",
   "id": "05f19d25-a97a-4c44-b868-4ffe5fb0465b",
   "metadata": {},
   "source": [
    "python program for hello word"
   ]
  },
  {
   "cell_type": "code",
   "execution_count": 1,
   "id": "e98cb94b-3569-4ab9-808a-aa712c86364e",
   "metadata": {},
   "outputs": [
    {
     "name": "stdout",
     "output_type": "stream",
     "text": [
      "hello python\n"
     ]
    }
   ],
   "source": [
    "print(\"hello python\")\n"
   ]
  },
  {
   "cell_type": "markdown",
   "id": "d96c0a34-d36e-4db1-8661-aa2d3fee75bd",
   "metadata": {},
   "source": [
    "python programe for arthmetic operarion addition and division"
   ]
  },
  {
   "cell_type": "code",
   "execution_count": 2,
   "id": "b08d165f-fa85-4462-9ab1-3b856cd47962",
   "metadata": {},
   "outputs": [
    {
     "name": "stdin",
     "output_type": "stream",
     "text": [
      "enter the first number for addiction:   5\n",
      "enter the second number for addiction:   6\n"
     ]
    },
    {
     "name": "stdout",
     "output_type": "stream",
     "text": [
      "sum:5.0 + 6.0 = 11.0\n"
     ]
    }
   ],
   "source": [
    "#addiction\n",
    "num1 = float(input(\"enter the first number for addiction:  \"))\n",
    "num2 = float(input(\"enter the second number for addiction:  \"))\n",
    "sum_result = num1 + num2\n",
    "print(f\"sum:{num1} + {num2} = {sum_result}\")\n",
    "             "
   ]
  },
  {
   "cell_type": "code",
   "execution_count": 8,
   "id": "7a0e6222-7c4c-4a45-a589-e1f14f24f21d",
   "metadata": {},
   "outputs": [
    {
     "name": "stdin",
     "output_type": "stream",
     "text": [
      "enter the divided for division:   36\n",
      "enter the divisor for division:   6\n"
     ]
    },
    {
     "name": "stdout",
     "output_type": "stream",
     "text": [
      "divide:36.0/6.0 = 6.0\n"
     ]
    }
   ],
   "source": [
    "#division\n",
    "num3 = float(input(\"enter the divided for division:  \"))\n",
    "num4 = float(input(\"enter the divisor for division:  \"))\n",
    "if num4==0:\n",
    "    print(\"the division is not possiblee:\")\n",
    "else:\n",
    "    div_result = num3/num4\n",
    "    print(f\"divide:{num3}/{num4} = {div_result}\")\n",
    "    "
   ]
  },
  {
   "cell_type": "markdown",
   "id": "11f4a92c-fd53-4c81-a2a4-774604281afc",
   "metadata": {},
   "source": [
    "python program for area of triangle"
   ]
  },
  {
   "cell_type": "code",
   "execution_count": 12,
   "id": "51df537b-1731-4bd5-b893-e13610f5c11c",
   "metadata": {},
   "outputs": [
    {
     "name": "stdin",
     "output_type": "stream",
     "text": [
      "enter the length of the base of the triangle:  78\n",
      "enter the height ofn the triangle:  8\n"
     ]
    },
    {
     "name": "stdout",
     "output_type": "stream",
     "text": [
      "the area of the triangle is : 312.0\n"
     ]
    }
   ],
   "source": [
    "#input the base and hieght from the user\n",
    "base = int(input(\"enter the length of the base of the triangle: \"))\n",
    "hieght=int(input(\"enter the height ofn the triangle: \"))\n",
    "#caluclate the area of the triangle\n",
    "area = 0.5 * base*hieght\n",
    "print(f\"the area of the triangle is : {area}\")"
   ]
  },
  {
   "cell_type": "code",
   "execution_count": null,
   "id": "870f8331-b1cf-4ca8-8e8f-61311350241b",
   "metadata": {},
   "outputs": [],
   "source": []
  }
 ],
 "metadata": {
  "kernelspec": {
   "display_name": "Python 3 (ipykernel)",
   "language": "python",
   "name": "python3"
  },
  "language_info": {
   "codemirror_mode": {
    "name": "ipython",
    "version": 3
   },
   "file_extension": ".py",
   "mimetype": "text/x-python",
   "name": "python",
   "nbconvert_exporter": "python",
   "pygments_lexer": "ipython3",
   "version": "3.12.5"
  }
 },
 "nbformat": 4,
 "nbformat_minor": 5
}
