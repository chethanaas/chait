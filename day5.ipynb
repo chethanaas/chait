{
 "cells": [
  {
   "cell_type": "markdown",
   "id": "96d28262-362a-4c6c-af0b-aae4eb967d39",
   "metadata": {},
   "source": [
    " create a class called 'Myqueue' which can handell 1,enqueue 2.dequeue 3.is empty 4.display"
   ]
  },
  {
   "cell_type": "code",
   "execution_count": 1,
   "id": "414ff5a2-f70d-4a2c-a48e-54524012ea34",
   "metadata": {},
   "outputs": [],
   "source": [
    "class MyQueue:\n",
    "    def __init__(self):\n",
    "        self.queue = [] \n",
    "    def enqueue(self,data):\n",
    "        self.queue.append(data)\n",
    "    def dequeue(self):\n",
    "        if self.queue:       \n",
    "            self.queue.pop(0)\n",
    "        else:\n",
    "            print(\"queue is empty\")\n",
    "    def isempty(self):\n",
    "        return len(self.queue)==0\n",
    "    def display(self):\n",
    "        if self.queue:\n",
    "            return self.queue\n",
    "        else:\n",
    "            print(\"no queue is empty\")\n",
    "    def size(self):\n",
    "        return len(self.queue)\n",
    "    "
   ]
  },
  {
   "cell_type": "code",
   "execution_count": 2,
   "id": "21b1b260-d9ec-4ba8-b813-f5b288860a58",
   "metadata": {},
   "outputs": [
    {
     "data": {
      "text/plain": [
       "[90, 56, 67]"
      ]
     },
     "execution_count": 2,
     "metadata": {},
     "output_type": "execute_result"
    }
   ],
   "source": [
    "q=MyQueue()\n",
    "q.enqueue(90)\n",
    "q.enqueue(56)\n",
    "q.enqueue(67)\n",
    "q.display()"
   ]
  },
  {
   "cell_type": "code",
   "execution_count": 3,
   "id": "facd1fec-6d85-4138-95ca-8db2ed4487c2",
   "metadata": {},
   "outputs": [
    {
     "data": {
      "text/plain": [
       "3"
      ]
     },
     "execution_count": 3,
     "metadata": {},
     "output_type": "execute_result"
    }
   ],
   "source": [
    "q.size()"
   ]
  },
  {
   "cell_type": "code",
   "execution_count": 4,
   "id": "8ccedb4d-bcd1-4d74-9cf4-75ff876228df",
   "metadata": {},
   "outputs": [
    {
     "name": "stdout",
     "output_type": "stream",
     "text": [
      "[3, 1, 5]\n",
      "[2, 7, 4]\n",
      "3\n",
      "4\n"
     ]
    }
   ],
   "source": [
    "arr = [3,2,1,7,5,4]\n",
    "even = []\n",
    "odd = []\n",
    "for i in range(len(arr)):\n",
    "    if i%2 == 0:\n",
    "        even.append(arr[i])\n",
    "    else:\n",
    "        odd.append(arr[i])\n",
    "print(even)\n",
    "print(odd)\n",
    "even.sort(reverse = True)\n",
    "print(even[1])\n",
    "odd.sort()\n",
    "print(odd[1])"
   ]
  },
  {
   "cell_type": "code",
   "execution_count": 5,
   "id": "c6d5b87e-08d6-47c0-8adf-5a9fc77b0d47",
   "metadata": {},
   "outputs": [],
   "source": [
    "class circularQ:\n",
    "    def __init__(self,size):\n",
    "        self.size = size\n",
    "        self.front = self.rear = -1\n",
    "        self.queue = [None]*size\n",
    "    def enqueue(self,data):\n",
    "        if(self.rear+1)%self.size == self.front:\n",
    "            print(\"Queue is full\")\n",
    "            #first element\n",
    "        elif self.front == -1:\n",
    "            self.front = self.rear = 0\n",
    "            self.queue[self.rear] = data\n",
    "        else:\n",
    "            self.rear = (self.rear+1)%self.size\n",
    "            self.queue[self.rear] = data\n",
    "    def dequeue(self,data):\n",
    "        if self.front == -1:\n",
    "            print(\"queue is empty\")\n",
    "            popped = self.queue[self.front]\n",
    "        elif self.front == self.rear:\n",
    "             self.front =self.rear = -1\n",
    "             return popped\n",
    "        else:\n",
    "            self.front = (self.front+1)%self.size\n",
    "            return popped\n",
    "    def display(self):\n",
    "        if self.front == -1:\n",
    "            print(\"queue is empty\")\n",
    "            return\n",
    "        i = self.front\n",
    "        while True:\n",
    "            print(self.queue[i])\n",
    "            if i == self.rear:\n",
    "                break\n",
    "            i = (i+1) % self.size"
   ]
  },
  {
   "cell_type": "code",
   "execution_count": 6,
   "id": "af854c36-0244-46f1-93aa-c121e8e2aad4",
   "metadata": {},
   "outputs": [],
   "source": [
    "j = circularQ(3)\n",
    "j.enqueue(90)\n",
    "j.enqueue(80)\n",
    "j.enqueue(30)\n"
   ]
  },
  {
   "cell_type": "code",
   "execution_count": 7,
   "id": "4053ffaa-f56c-4b78-bebf-e9ed6590e757",
   "metadata": {},
   "outputs": [
    {
     "name": "stdout",
     "output_type": "stream",
     "text": [
      "Queue is full\n"
     ]
    }
   ],
   "source": [
    "j.enqueue(60)"
   ]
  },
  {
   "cell_type": "code",
   "execution_count": 8,
   "id": "a2f64b52-1944-4d8f-8029-d654ead0215d",
   "metadata": {},
   "outputs": [
    {
     "name": "stdout",
     "output_type": "stream",
     "text": [
      "queue is empty\n",
      "queue is empty\n",
      "queue is empty\n"
     ]
    }
   ],
   "source": [
    "j = circularQ(3)\n",
    "j.dequeue(2)\n",
    "j.dequeue(3)\n",
    "j.dequeue(6)"
   ]
  },
  {
   "cell_type": "code",
   "execution_count": 9,
   "id": "2d054f18-f6b5-4bb1-9090-78a9a98dc36c",
   "metadata": {},
   "outputs": [
    {
     "name": "stdout",
     "output_type": "stream",
     "text": [
      "queue is empty\n"
     ]
    }
   ],
   "source": [
    "j.dequeue(12)"
   ]
  },
  {
   "cell_type": "code",
   "execution_count": 13,
   "id": "de29a575-632c-4b20-b96e-11f9b11c92ba",
   "metadata": {},
   "outputs": [
    {
     "name": "stdout",
     "output_type": "stream",
     "text": [
      "91\n",
      "56\n",
      "56\n"
     ]
    }
   ],
   "source": [
    "k = circularQ(3)\n",
    "k.enqueue(91)\n",
    "k.enqueue(56)\n",
    "k.enqueue(56)\n",
    "k.display()"
   ]
  },
  {
   "cell_type": "code",
   "execution_count": 38,
   "id": "ff5a66f7-d93a-46c2-8398-4820e56563ca",
   "metadata": {},
   "outputs": [],
   "source": [
    "def a(m,n):\n",
    "    q=0\n",
    "    p=0\n",
    "    i=1\n",
    "    for i in range(m+1):\n",
    "        if  i%n == 0:\n",
    "            p=p+i\n",
    "        else:\n",
    "            q = q+i\n",
    "    c=q-p\n",
    "    print(c)\n",
    "    \n"
   ]
  },
  {
   "cell_type": "code",
   "execution_count": 39,
   "id": "9a97b3c2-2076-42af-94fe-3c91f7ae1d16",
   "metadata": {},
   "outputs": [
    {
     "name": "stdout",
     "output_type": "stream",
     "text": [
      "90\n"
     ]
    }
   ],
   "source": [
    "a(20,4)"
   ]
  },
  {
   "cell_type": "code",
   "execution_count": null,
   "id": "774619a4-d241-46e3-8da5-e7369e09df40",
   "metadata": {},
   "outputs": [],
   "source": []
  }
 ],
 "metadata": {
  "kernelspec": {
   "display_name": "Python 3 (ipykernel)",
   "language": "python",
   "name": "python3"
  },
  "language_info": {
   "codemirror_mode": {
    "name": "ipython",
    "version": 3
   },
   "file_extension": ".py",
   "mimetype": "text/x-python",
   "name": "python",
   "nbconvert_exporter": "python",
   "pygments_lexer": "ipython3",
   "version": "3.12.5"
  }
 },
 "nbformat": 4,
 "nbformat_minor": 5
}
